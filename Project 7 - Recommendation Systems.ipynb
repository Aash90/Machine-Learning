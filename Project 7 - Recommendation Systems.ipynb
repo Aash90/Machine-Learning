{
 "cells": [
  {
   "cell_type": "code",
   "execution_count": 4,
   "metadata": {
    "cell_style": "center"
   },
   "outputs": [],
   "source": [
    "import pandas as pd\n",
    "import numpy as np\n",
    "import seaborn as sns\n",
    "import matplotlib.pyplot as plt\n",
    "\n",
    "%matplotlib inline"
   ]
  },
  {
   "cell_type": "code",
   "execution_count": 5,
   "metadata": {},
   "outputs": [],
   "source": [
    "# # # Read the Data and get sample of 10000\n",
    "\n",
    "amazon_ratings = pd.read_csv(\"ratings_Electronics.csv\", header=None, names=['userId', 'productId', 'ratings', 'timestamps'])\n",
    "\n",
    "# Drop timestamps data\n",
    "amazon_data = amazon_ratings.iloc[:,:3]\n"
   ]
  },
  {
   "cell_type": "code",
   "execution_count": 6,
   "metadata": {
    "cell_style": "center"
   },
   "outputs": [],
   "source": [
    "# Fetch data for those who have given more than 50 reviews\n",
    "\n",
    "value_data = amazon_data.userId.value_counts() \n",
    "\n",
    "data_morethan_50 = value_data[value_data > 50]"
   ]
  },
  {
   "cell_type": "code",
   "execution_count": 7,
   "metadata": {},
   "outputs": [
    {
     "data": {
      "text/plain": [
       "A5JLAU2ARJ0BO     520\n",
       "ADLVFFE4VBT8      501\n",
       "A3OXHLG6DIBRW8    498\n",
       "A6FIAB28IS79      431\n",
       "A680RUE1FDO8B     406\n",
       "Name: userId, dtype: int64"
      ]
     },
     "execution_count": 7,
     "metadata": {},
     "output_type": "execute_result"
    }
   ],
   "source": [
    "data_morethan_50.head()"
   ]
  },
  {
   "cell_type": "code",
   "execution_count": 8,
   "metadata": {},
   "outputs": [
    {
     "data": {
      "text/html": [
       "<div>\n",
       "<style scoped>\n",
       "    .dataframe tbody tr th:only-of-type {\n",
       "        vertical-align: middle;\n",
       "    }\n",
       "\n",
       "    .dataframe tbody tr th {\n",
       "        vertical-align: top;\n",
       "    }\n",
       "\n",
       "    .dataframe thead th {\n",
       "        text-align: right;\n",
       "    }\n",
       "</style>\n",
       "<table border=\"1\" class=\"dataframe\">\n",
       "  <thead>\n",
       "    <tr style=\"text-align: right;\">\n",
       "      <th></th>\n",
       "      <th>userId</th>\n",
       "      <th>reviews_counts</th>\n",
       "    </tr>\n",
       "  </thead>\n",
       "  <tbody>\n",
       "    <tr>\n",
       "      <th>0</th>\n",
       "      <td>A5JLAU2ARJ0BO</td>\n",
       "      <td>520</td>\n",
       "    </tr>\n",
       "    <tr>\n",
       "      <th>1</th>\n",
       "      <td>ADLVFFE4VBT8</td>\n",
       "      <td>501</td>\n",
       "    </tr>\n",
       "    <tr>\n",
       "      <th>2</th>\n",
       "      <td>A3OXHLG6DIBRW8</td>\n",
       "      <td>498</td>\n",
       "    </tr>\n",
       "    <tr>\n",
       "      <th>3</th>\n",
       "      <td>A6FIAB28IS79</td>\n",
       "      <td>431</td>\n",
       "    </tr>\n",
       "    <tr>\n",
       "      <th>4</th>\n",
       "      <td>A680RUE1FDO8B</td>\n",
       "      <td>406</td>\n",
       "    </tr>\n",
       "  </tbody>\n",
       "</table>\n",
       "</div>"
      ],
      "text/plain": [
       "           userId  reviews_counts\n",
       "0   A5JLAU2ARJ0BO             520\n",
       "1    ADLVFFE4VBT8             501\n",
       "2  A3OXHLG6DIBRW8             498\n",
       "3    A6FIAB28IS79             431\n",
       "4   A680RUE1FDO8B             406"
      ]
     },
     "execution_count": 8,
     "metadata": {},
     "output_type": "execute_result"
    }
   ],
   "source": [
    "## converting series to data frame \n",
    "\n",
    "data_morethan_50 = data_morethan_50.to_frame()\n",
    "data_morethan_50['reviews_counts'] = data_morethan_50['userId']\n",
    "data_morethan_50['userId'] = data_morethan_50.index\n",
    "data_morethan_50.reset_index(inplace=True)\n",
    "\n",
    "del data_morethan_50['index']\n",
    "data_morethan_50.head()"
   ]
  },
  {
   "cell_type": "code",
   "execution_count": 9,
   "metadata": {},
   "outputs": [
    {
     "data": {
      "text/html": [
       "<div>\n",
       "<style scoped>\n",
       "    .dataframe tbody tr th:only-of-type {\n",
       "        vertical-align: middle;\n",
       "    }\n",
       "\n",
       "    .dataframe tbody tr th {\n",
       "        vertical-align: top;\n",
       "    }\n",
       "\n",
       "    .dataframe thead th {\n",
       "        text-align: right;\n",
       "    }\n",
       "</style>\n",
       "<table border=\"1\" class=\"dataframe\">\n",
       "  <thead>\n",
       "    <tr style=\"text-align: right;\">\n",
       "      <th></th>\n",
       "      <th>userId</th>\n",
       "      <th>productId</th>\n",
       "      <th>ratings</th>\n",
       "    </tr>\n",
       "  </thead>\n",
       "  <tbody>\n",
       "    <tr>\n",
       "      <th>118</th>\n",
       "      <td>AT09WGFUM934H</td>\n",
       "      <td>0594481813</td>\n",
       "      <td>3.0</td>\n",
       "    </tr>\n",
       "    <tr>\n",
       "      <th>177</th>\n",
       "      <td>A32HSNCNPRUMTR</td>\n",
       "      <td>0970407998</td>\n",
       "      <td>1.0</td>\n",
       "    </tr>\n",
       "    <tr>\n",
       "      <th>178</th>\n",
       "      <td>A17HMM1M7T9PJ1</td>\n",
       "      <td>0970407998</td>\n",
       "      <td>4.0</td>\n",
       "    </tr>\n",
       "    <tr>\n",
       "      <th>492</th>\n",
       "      <td>A3CLWR1UUZT6TG</td>\n",
       "      <td>0972683275</td>\n",
       "      <td>5.0</td>\n",
       "    </tr>\n",
       "    <tr>\n",
       "      <th>631</th>\n",
       "      <td>A3TAS1AG6FMBQW</td>\n",
       "      <td>0972683275</td>\n",
       "      <td>5.0</td>\n",
       "    </tr>\n",
       "  </tbody>\n",
       "</table>\n",
       "</div>"
      ],
      "text/plain": [
       "             userId   productId  ratings\n",
       "118   AT09WGFUM934H  0594481813      3.0\n",
       "177  A32HSNCNPRUMTR  0970407998      1.0\n",
       "178  A17HMM1M7T9PJ1  0970407998      4.0\n",
       "492  A3CLWR1UUZT6TG  0972683275      5.0\n",
       "631  A3TAS1AG6FMBQW  0972683275      5.0"
      ]
     },
     "execution_count": 9,
     "metadata": {},
     "output_type": "execute_result"
    }
   ],
   "source": [
    "## All the data of the users who have given more than 50 reviews\n",
    "usable_amazon_data = amazon_data[amazon_data.userId.isin(data_morethan_50.userId)]\n",
    "usable_amazon_data.head()"
   ]
  },
  {
   "cell_type": "code",
   "execution_count": 10,
   "metadata": {
    "cell_style": "split"
   },
   "outputs": [
    {
     "data": {
      "text/plain": [
       "<matplotlib.axes._subplots.AxesSubplot at 0x24100444898>"
      ]
     },
     "execution_count": 10,
     "metadata": {},
     "output_type": "execute_result"
    },
    {
     "data": {
      "image/png": "[encoded data removed]",
      "text/plain": [
       "<Figure size 432x288 with 1 Axes>"
      ]
     },
     "metadata": {
      "needs_background": "light"
     },
     "output_type": "display_data"
    }
   ],
   "source": [
    "import warnings\n",
    "warnings.filterwarnings('ignore')\n",
    "sns.distplot(usable_amazon_data.ratings)\n"
   ]
  },
  {
   "cell_type": "code",
   "execution_count": 11,
   "metadata": {
    "cell_style": "split"
   },
   "outputs": [
    {
     "data": {
      "text/plain": [
       "userId       0\n",
       "productId    0\n",
       "ratings      0\n",
       "dtype: int64"
      ]
     },
     "execution_count": 11,
     "metadata": {},
     "output_type": "execute_result"
    }
   ],
   "source": [
    "usable_amazon_data.isna().sum()"
   ]
  },
  {
   "cell_type": "code",
   "execution_count": 12,
   "metadata": {},
   "outputs": [],
   "source": [
    "# Split dat for training and test\n",
    "\n",
    "from sklearn.model_selection import train_test_split\n",
    "\n",
    "train_data, test_data = train_test_split(usable_amazon_data, test_size = 0.30, random_state=0)"
   ]
  },
  {
   "cell_type": "code",
   "execution_count": 13,
   "metadata": {},
   "outputs": [
    {
     "name": "stdout",
     "output_type": "stream",
     "text": [
      "========================= Index(['productId', 'userId'], dtype='object')\n"
     ]
    }
   ],
   "source": [
    "# #usable_amazon_data.groupby('productId').agg({'ratings': 'sum'}).reset_index()\n",
    "import Recommenders\n",
    "\n",
    "rc = Recommenders.popularity_recommender_py()\n",
    "rc.create(train_data, 'userId', 'productId')\n",
    "\n"
   ]
  },
  {
   "cell_type": "code",
   "execution_count": 14,
   "metadata": {
    "cell_style": "split"
   },
   "outputs": [
    {
     "data": {
      "text/html": [
       "<div>\n",
       "<style scoped>\n",
       "    .dataframe tbody tr th:only-of-type {\n",
       "        vertical-align: middle;\n",
       "    }\n",
       "\n",
       "    .dataframe tbody tr th {\n",
       "        vertical-align: top;\n",
       "    }\n",
       "\n",
       "    .dataframe thead th {\n",
       "        text-align: right;\n",
       "    }\n",
       "</style>\n",
       "<table border=\"1\" class=\"dataframe\">\n",
       "  <thead>\n",
       "    <tr style=\"text-align: right;\">\n",
       "      <th></th>\n",
       "      <th>userId</th>\n",
       "      <th>productId</th>\n",
       "      <th>score</th>\n",
       "      <th>Rank</th>\n",
       "    </tr>\n",
       "  </thead>\n",
       "  <tbody>\n",
       "    <tr>\n",
       "      <th>30197</th>\n",
       "      <td>A18A5VSD0IPN14</td>\n",
       "      <td>B0088CJT4U</td>\n",
       "      <td>150</td>\n",
       "      <td>1.0</td>\n",
       "    </tr>\n",
       "    <tr>\n",
       "      <th>19162</th>\n",
       "      <td>A18A5VSD0IPN14</td>\n",
       "      <td>B003ES5ZUU</td>\n",
       "      <td>130</td>\n",
       "      <td>2.0</td>\n",
       "    </tr>\n",
       "    <tr>\n",
       "      <th>8448</th>\n",
       "      <td>A18A5VSD0IPN14</td>\n",
       "      <td>B000N99BBC</td>\n",
       "      <td>112</td>\n",
       "      <td>3.0</td>\n",
       "    </tr>\n",
       "    <tr>\n",
       "      <th>29619</th>\n",
       "      <td>A18A5VSD0IPN14</td>\n",
       "      <td>B007WTAJTO</td>\n",
       "      <td>104</td>\n",
       "      <td>4.0</td>\n",
       "    </tr>\n",
       "    <tr>\n",
       "      <th>29901</th>\n",
       "      <td>A18A5VSD0IPN14</td>\n",
       "      <td>B00829TIEK</td>\n",
       "      <td>104</td>\n",
       "      <td>5.0</td>\n",
       "    </tr>\n",
       "    <tr>\n",
       "      <th>29897</th>\n",
       "      <td>A18A5VSD0IPN14</td>\n",
       "      <td>B00829THK0</td>\n",
       "      <td>94</td>\n",
       "      <td>6.0</td>\n",
       "    </tr>\n",
       "    <tr>\n",
       "      <th>16945</th>\n",
       "      <td>A18A5VSD0IPN14</td>\n",
       "      <td>B002R5AM7C</td>\n",
       "      <td>85</td>\n",
       "      <td>7.0</td>\n",
       "    </tr>\n",
       "    <tr>\n",
       "      <th>22207</th>\n",
       "      <td>A18A5VSD0IPN14</td>\n",
       "      <td>B004CLYEDC</td>\n",
       "      <td>83</td>\n",
       "      <td>8.0</td>\n",
       "    </tr>\n",
       "    <tr>\n",
       "      <th>30455</th>\n",
       "      <td>A18A5VSD0IPN14</td>\n",
       "      <td>B008DWCRQW</td>\n",
       "      <td>82</td>\n",
       "      <td>9.0</td>\n",
       "    </tr>\n",
       "    <tr>\n",
       "      <th>17122</th>\n",
       "      <td>A18A5VSD0IPN14</td>\n",
       "      <td>B002SZEOLG</td>\n",
       "      <td>79</td>\n",
       "      <td>10.0</td>\n",
       "    </tr>\n",
       "  </tbody>\n",
       "</table>\n",
       "</div>"
      ],
      "text/plain": [
       "               userId   productId  score  Rank\n",
       "30197  A18A5VSD0IPN14  B0088CJT4U    150   1.0\n",
       "19162  A18A5VSD0IPN14  B003ES5ZUU    130   2.0\n",
       "8448   A18A5VSD0IPN14  B000N99BBC    112   3.0\n",
       "29619  A18A5VSD0IPN14  B007WTAJTO    104   4.0\n",
       "29901  A18A5VSD0IPN14  B00829TIEK    104   5.0\n",
       "29897  A18A5VSD0IPN14  B00829THK0     94   6.0\n",
       "16945  A18A5VSD0IPN14  B002R5AM7C     85   7.0\n",
       "22207  A18A5VSD0IPN14  B004CLYEDC     83   8.0\n",
       "30455  A18A5VSD0IPN14  B008DWCRQW     82   9.0\n",
       "17122  A18A5VSD0IPN14  B002SZEOLG     79  10.0"
      ]
     },
     "execution_count": 14,
     "metadata": {},
     "output_type": "execute_result"
    }
   ],
   "source": [
    "rc.recommend('A18A5VSD0IPN14')"
   ]
  },
  {
   "cell_type": "code",
   "execution_count": 15,
   "metadata": {
    "cell_style": "split"
   },
   "outputs": [
    {
     "data": {
      "text/html": [
       "<div>\n",
       "<style scoped>\n",
       "    .dataframe tbody tr th:only-of-type {\n",
       "        vertical-align: middle;\n",
       "    }\n",
       "\n",
       "    .dataframe tbody tr th {\n",
       "        vertical-align: top;\n",
       "    }\n",
       "\n",
       "    .dataframe thead th {\n",
       "        text-align: right;\n",
       "    }\n",
       "</style>\n",
       "<table border=\"1\" class=\"dataframe\">\n",
       "  <thead>\n",
       "    <tr style=\"text-align: right;\">\n",
       "      <th></th>\n",
       "      <th>userId</th>\n",
       "      <th>productId</th>\n",
       "      <th>score</th>\n",
       "      <th>Rank</th>\n",
       "    </tr>\n",
       "  </thead>\n",
       "  <tbody>\n",
       "    <tr>\n",
       "      <th>30197</th>\n",
       "      <td>AC9QEWWN4W9MC</td>\n",
       "      <td>B0088CJT4U</td>\n",
       "      <td>150</td>\n",
       "      <td>1.0</td>\n",
       "    </tr>\n",
       "    <tr>\n",
       "      <th>19162</th>\n",
       "      <td>AC9QEWWN4W9MC</td>\n",
       "      <td>B003ES5ZUU</td>\n",
       "      <td>130</td>\n",
       "      <td>2.0</td>\n",
       "    </tr>\n",
       "    <tr>\n",
       "      <th>8448</th>\n",
       "      <td>AC9QEWWN4W9MC</td>\n",
       "      <td>B000N99BBC</td>\n",
       "      <td>112</td>\n",
       "      <td>3.0</td>\n",
       "    </tr>\n",
       "    <tr>\n",
       "      <th>29619</th>\n",
       "      <td>AC9QEWWN4W9MC</td>\n",
       "      <td>B007WTAJTO</td>\n",
       "      <td>104</td>\n",
       "      <td>4.0</td>\n",
       "    </tr>\n",
       "    <tr>\n",
       "      <th>29901</th>\n",
       "      <td>AC9QEWWN4W9MC</td>\n",
       "      <td>B00829TIEK</td>\n",
       "      <td>104</td>\n",
       "      <td>5.0</td>\n",
       "    </tr>\n",
       "    <tr>\n",
       "      <th>29897</th>\n",
       "      <td>AC9QEWWN4W9MC</td>\n",
       "      <td>B00829THK0</td>\n",
       "      <td>94</td>\n",
       "      <td>6.0</td>\n",
       "    </tr>\n",
       "    <tr>\n",
       "      <th>16945</th>\n",
       "      <td>AC9QEWWN4W9MC</td>\n",
       "      <td>B002R5AM7C</td>\n",
       "      <td>85</td>\n",
       "      <td>7.0</td>\n",
       "    </tr>\n",
       "    <tr>\n",
       "      <th>22207</th>\n",
       "      <td>AC9QEWWN4W9MC</td>\n",
       "      <td>B004CLYEDC</td>\n",
       "      <td>83</td>\n",
       "      <td>8.0</td>\n",
       "    </tr>\n",
       "    <tr>\n",
       "      <th>30455</th>\n",
       "      <td>AC9QEWWN4W9MC</td>\n",
       "      <td>B008DWCRQW</td>\n",
       "      <td>82</td>\n",
       "      <td>9.0</td>\n",
       "    </tr>\n",
       "    <tr>\n",
       "      <th>17122</th>\n",
       "      <td>AC9QEWWN4W9MC</td>\n",
       "      <td>B002SZEOLG</td>\n",
       "      <td>79</td>\n",
       "      <td>10.0</td>\n",
       "    </tr>\n",
       "  </tbody>\n",
       "</table>\n",
       "</div>"
      ],
      "text/plain": [
       "              userId   productId  score  Rank\n",
       "30197  AC9QEWWN4W9MC  B0088CJT4U    150   1.0\n",
       "19162  AC9QEWWN4W9MC  B003ES5ZUU    130   2.0\n",
       "8448   AC9QEWWN4W9MC  B000N99BBC    112   3.0\n",
       "29619  AC9QEWWN4W9MC  B007WTAJTO    104   4.0\n",
       "29901  AC9QEWWN4W9MC  B00829TIEK    104   5.0\n",
       "29897  AC9QEWWN4W9MC  B00829THK0     94   6.0\n",
       "16945  AC9QEWWN4W9MC  B002R5AM7C     85   7.0\n",
       "22207  AC9QEWWN4W9MC  B004CLYEDC     83   8.0\n",
       "30455  AC9QEWWN4W9MC  B008DWCRQW     82   9.0\n",
       "17122  AC9QEWWN4W9MC  B002SZEOLG     79  10.0"
      ]
     },
     "execution_count": 15,
     "metadata": {},
     "output_type": "execute_result"
    }
   ],
   "source": [
    "rc.recommend('AC9QEWWN4W9MC')"
   ]
  },
  {
   "cell_type": "markdown",
   "metadata": {},
   "source": [
    "### As per above analysis we can see that the model is recommending top 10 products popular among users"
   ]
  },
  {
   "cell_type": "code",
   "execution_count": 52,
   "metadata": {},
   "outputs": [
    {
     "name": "stdout",
     "output_type": "stream",
     "text": [
      "<class 'pandas.core.frame.DataFrame'>\n",
      "Int64Index: 122171 entries, 118 to 7824444\n",
      "Data columns (total 3 columns):\n",
      "userId       122171 non-null object\n",
      "productId    122171 non-null object\n",
      "ratings      122171 non-null float64\n",
      "dtypes: float64(1), object(2)\n",
      "memory usage: 3.7+ MB\n"
     ]
    }
   ],
   "source": [
    "usable_amazon_data.info()"
   ]
  },
  {
   "cell_type": "markdown",
   "metadata": {},
   "source": [
    "### Using Recommenders.py file item similarity"
   ]
  },
  {
   "cell_type": "code",
   "execution_count": 50,
   "metadata": {},
   "outputs": [],
   "source": [
    "is_model = Recommenders.item_similarity_recommender_py()\n",
    "is_model.create(train_data, 'userId', 'productId')"
   ]
  },
  {
   "cell_type": "code",
   "execution_count": 51,
   "metadata": {},
   "outputs": [
    {
     "name": "stdout",
     "output_type": "stream",
     "text": [
      "No. of unique songs for the user: 38\n",
      "no. of unique songs in the training set: 37385\n",
      "Non zero values in cooccurence_matrix :12846\n"
     ]
    },
    {
     "data": {
      "text/html": [
       "<div>\n",
       "<style scoped>\n",
       "    .dataframe tbody tr th:only-of-type {\n",
       "        vertical-align: middle;\n",
       "    }\n",
       "\n",
       "    .dataframe tbody tr th {\n",
       "        vertical-align: top;\n",
       "    }\n",
       "\n",
       "    .dataframe thead th {\n",
       "        text-align: right;\n",
       "    }\n",
       "</style>\n",
       "<table border=\"1\" class=\"dataframe\">\n",
       "  <thead>\n",
       "    <tr style=\"text-align: right;\">\n",
       "      <th></th>\n",
       "      <th>userId</th>\n",
       "      <th>movieId</th>\n",
       "      <th>score</th>\n",
       "      <th>rank</th>\n",
       "    </tr>\n",
       "  </thead>\n",
       "  <tbody>\n",
       "    <tr>\n",
       "      <th>0</th>\n",
       "      <td>A18A5VSD0IPN14</td>\n",
       "      <td>B007C6ZN3Y</td>\n",
       "      <td>0.026316</td>\n",
       "      <td>1</td>\n",
       "    </tr>\n",
       "    <tr>\n",
       "      <th>1</th>\n",
       "      <td>A18A5VSD0IPN14</td>\n",
       "      <td>B001OI2LV8</td>\n",
       "      <td>0.026316</td>\n",
       "      <td>2</td>\n",
       "    </tr>\n",
       "    <tr>\n",
       "      <th>2</th>\n",
       "      <td>A18A5VSD0IPN14</td>\n",
       "      <td>B003EEK03Q</td>\n",
       "      <td>0.026316</td>\n",
       "      <td>3</td>\n",
       "    </tr>\n",
       "    <tr>\n",
       "      <th>3</th>\n",
       "      <td>A18A5VSD0IPN14</td>\n",
       "      <td>B001E71GU6</td>\n",
       "      <td>0.026316</td>\n",
       "      <td>4</td>\n",
       "    </tr>\n",
       "    <tr>\n",
       "      <th>4</th>\n",
       "      <td>A18A5VSD0IPN14</td>\n",
       "      <td>B009W7ZVS8</td>\n",
       "      <td>0.026316</td>\n",
       "      <td>5</td>\n",
       "    </tr>\n",
       "    <tr>\n",
       "      <th>5</th>\n",
       "      <td>A18A5VSD0IPN14</td>\n",
       "      <td>B005F79DC4</td>\n",
       "      <td>0.026316</td>\n",
       "      <td>6</td>\n",
       "    </tr>\n",
       "    <tr>\n",
       "      <th>6</th>\n",
       "      <td>A18A5VSD0IPN14</td>\n",
       "      <td>B003CHOGCQ</td>\n",
       "      <td>0.026316</td>\n",
       "      <td>7</td>\n",
       "    </tr>\n",
       "    <tr>\n",
       "      <th>7</th>\n",
       "      <td>A18A5VSD0IPN14</td>\n",
       "      <td>B00BKNMPHW</td>\n",
       "      <td>0.026316</td>\n",
       "      <td>8</td>\n",
       "    </tr>\n",
       "    <tr>\n",
       "      <th>8</th>\n",
       "      <td>A18A5VSD0IPN14</td>\n",
       "      <td>B008YYT1IG</td>\n",
       "      <td>0.026316</td>\n",
       "      <td>9</td>\n",
       "    </tr>\n",
       "    <tr>\n",
       "      <th>9</th>\n",
       "      <td>A18A5VSD0IPN14</td>\n",
       "      <td>B006CO2UYW</td>\n",
       "      <td>0.026316</td>\n",
       "      <td>10</td>\n",
       "    </tr>\n",
       "  </tbody>\n",
       "</table>\n",
       "</div>"
      ],
      "text/plain": [
       "           userId     movieId     score rank\n",
       "0  A18A5VSD0IPN14  B007C6ZN3Y  0.026316    1\n",
       "1  A18A5VSD0IPN14  B001OI2LV8  0.026316    2\n",
       "2  A18A5VSD0IPN14  B003EEK03Q  0.026316    3\n",
       "3  A18A5VSD0IPN14  B001E71GU6  0.026316    4\n",
       "4  A18A5VSD0IPN14  B009W7ZVS8  0.026316    5\n",
       "5  A18A5VSD0IPN14  B005F79DC4  0.026316    6\n",
       "6  A18A5VSD0IPN14  B003CHOGCQ  0.026316    7\n",
       "7  A18A5VSD0IPN14  B00BKNMPHW  0.026316    8\n",
       "8  A18A5VSD0IPN14  B008YYT1IG  0.026316    9\n",
       "9  A18A5VSD0IPN14  B006CO2UYW  0.026316   10"
      ]
     },
     "execution_count": 51,
     "metadata": {},
     "output_type": "execute_result"
    }
   ],
   "source": [
    "is_model.recommend('A18A5VSD0IPN14')"
   ]
  },
  {
   "cell_type": "markdown",
   "metadata": {},
   "source": [
    "### You Can see the predictions of movie based on collabrative approach"
   ]
  },
  {
   "cell_type": "code",
   "execution_count": 65,
   "metadata": {},
   "outputs": [],
   "source": []
  },
  {
   "cell_type": "code",
   "execution_count": null,
   "metadata": {},
   "outputs": [],
   "source": []
  }
 ],
 "metadata": {
  "kernelspec": {
   "display_name": "Python 3",
   "language": "python",
   "name": "python3"
  },
  "language_info": {
   "codemirror_mode": {
    "name": "ipython",
    "version": 3
   },
   "file_extension": ".py",
   "mimetype": "text/x-python",
   "name": "python",
   "nbconvert_exporter": "python",
   "pygments_lexer": "ipython3",
   "version": "3.7.1"
  }
 },
 "nbformat": 4,
 "nbformat_minor": 2
}
